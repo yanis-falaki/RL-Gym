{
 "cells": [
  {
   "cell_type": "code",
   "execution_count": 2,
   "metadata": {},
   "outputs": [],
   "source": [
    "from models.actor_critic import PPOActorCritic\n",
    "import gymnasium as gym\n",
    "import numpy as np\n",
    "import torch\n",
    "from itertools import count"
   ]
  },
  {
   "cell_type": "markdown",
   "metadata": {},
   "source": [
    "## Model From Scratch"
   ]
  },
  {
   "cell_type": "code",
   "execution_count": 10,
   "metadata": {},
   "outputs": [],
   "source": [
    "device = torch.device(\"cuda\" if torch.cuda.is_available() else \"cpu\")\n",
    "\n",
    "env = gym.make('Pendulum-v1', render_mode='human')\n",
    "ac = PPOActorCritic(in_features=4).to(device)\n",
    "ac.load_state_dict(torch.load(\"saved_models/ac_model.pth\"))\n",
    "ac.eval()\n",
    "\n",
    "num_episodes = 1\n",
    "\n",
    "for episode in range(num_episodes):\n",
    "    states, info = env.reset()\n",
    "    for t in count():\n",
    "        states = torch.from_numpy(states).float().to(device)\n",
    "        t_feature = torch.tensor([t], device=device)\n",
    "        states = torch.cat((states, t_feature), dim=-1)\n",
    "\n",
    "        with torch.no_grad():\n",
    "            action, log_prob, pre_squashed_action, state_values = ac.get_action_and_value(states, deterministic=True)\n",
    "\n",
    "        new_states, rew, terminated, truncated, info = env.step(action.to('cpu').numpy())\n",
    "        states = new_states\n",
    "\n",
    "        if truncated or terminated:\n",
    "            break"
   ]
  },
  {
   "cell_type": "markdown",
   "metadata": {},
   "source": [
    "## Model built with TorchRL"
   ]
  },
  {
   "cell_type": "code",
   "execution_count": 12,
   "metadata": {},
   "outputs": [],
   "source": [
    "device = torch.device(\"cuda\" if torch.cuda.is_available() else \"cpu\")\n",
    "\n",
    "env = gym.make('Pendulum-v1', render_mode='human')\n",
    "model = torch.export.load(\"saved_models/model.pt2\").module().to(device)\n",
    "\n",
    "num_episodes = 5\n",
    "\n",
    "for episode in range(num_episodes):\n",
    "    states, info = env.reset()\n",
    "    for t in count():\n",
    "        states = torch.from_numpy(states).float().to(device)\n",
    "        t_feature = torch.tensor([t/200], device=device)\n",
    "        states = torch.cat((states, t_feature), dim=-1)\n",
    "\n",
    "\n",
    "        action = model(observation=states)\n",
    "\n",
    "        new_states, rew, terminated, truncated, info = env.step(action.to('cpu').numpy())\n",
    "        states = new_states\n",
    "\n",
    "        if truncated or terminated:\n",
    "            break"
   ]
  },
  {
   "cell_type": "code",
   "execution_count": 13,
   "metadata": {},
   "outputs": [],
   "source": [
    "env.close()"
   ]
  }
 ],
 "metadata": {
  "kernelspec": {
   "display_name": "datascience-3.12.5",
   "language": "python",
   "name": "python3"
  },
  "language_info": {
   "codemirror_mode": {
    "name": "ipython",
    "version": 3
   },
   "file_extension": ".py",
   "mimetype": "text/x-python",
   "name": "python",
   "nbconvert_exporter": "python",
   "pygments_lexer": "ipython3",
   "version": "3.12.5"
  }
 },
 "nbformat": 4,
 "nbformat_minor": 2
}
